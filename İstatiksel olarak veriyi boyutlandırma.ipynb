{
 "cells": [
  {
   "cell_type": "code",
   "execution_count": 4,
   "id": "ede80d2b",
   "metadata": {},
   "outputs": [],
   "source": [
    "import numpy as np\n",
    "import pandas as pd\n",
    "import matplotlib.pyplot as plt"
   ]
  },
  {
   "cell_type": "code",
   "execution_count": 5,
   "id": "09a795eb",
   "metadata": {},
   "outputs": [],
   "source": [
    "df = pd.read_csv('data.csv')"
   ]
  },
  {
   "cell_type": "code",
   "execution_count": 10,
   "id": "b7b5ad9a",
   "metadata": {},
   "outputs": [],
   "source": [
    "df['city'] = df['city'].astype('category')\n",
    "df['district'] = df['district'].astype('category')\n",
    "df['neighborhood'] = df['neighborhood'].astype('category')\n",
    "df['room'] = df['room'].astype('int')\n",
    "df['living_room'] = df['living_room'].astype('int')\n",
    "df['area'] = df['area'].astype('int')\n",
    "df['age'] = df['age'].astype('int')\n",
    "df['floor'] = df['floor'].astype('int')\n",
    "df['price'] = df['price'].astype('int')"
   ]
  },
  {
   "cell_type": "code",
   "execution_count": 20,
   "id": "0db6a33b",
   "metadata": {},
   "outputs": [
    {
     "name": "stdout",
     "output_type": "stream",
     "text": [
      "<class 'pandas.core.frame.DataFrame'>\n",
      "RangeIndex: 8136 entries, 0 to 8135\n",
      "Data columns (total 9 columns):\n",
      " #   Column        Non-Null Count  Dtype   \n",
      "---  ------        --------------  -----   \n",
      " 0   city          8136 non-null   category\n",
      " 1   district      8136 non-null   category\n",
      " 2   neighborhood  8136 non-null   category\n",
      " 3   room          8136 non-null   int32   \n",
      " 4   living_room   8136 non-null   int32   \n",
      " 5   area          8136 non-null   int32   \n",
      " 6   age           8136 non-null   int32   \n",
      " 7   floor         8136 non-null   int32   \n",
      " 8   price         8136 non-null   int32   \n",
      "dtypes: category(3), int32(6)\n",
      "memory usage: 247.6 KB\n",
      "None\n"
     ]
    }
   ],
   "source": [
    "print(df.info())"
   ]
  },
  {
   "cell_type": "code",
   "execution_count": 19,
   "id": "450a2af6",
   "metadata": {},
   "outputs": [],
   "source": [
    "df.drop([\"list-view-date\"], axis = 1, inplace = True)"
   ]
  },
  {
   "cell_type": "code",
   "execution_count": 28,
   "id": "fc23cff1",
   "metadata": {},
   "outputs": [
    {
     "name": "stdout",
     "output_type": "stream",
     "text": [
      "column: room, min: 0.5, max: 4.5\n",
      "column: living_room, min: 1.0, max: 1.0\n",
      "column: area, min: -17.5, max: 242.5\n",
      "column: age, min: -20.0, max: 44.0\n",
      "column: floor, min: -2.0, max: 6.0\n",
      "column: price, min: -18000.0, max: 62000.0\n"
     ]
    }
   ],
   "source": [
    "columns = df.select_dtypes(include = [np.number]).columns\n",
    "\n",
    "min_values = []\n",
    "max_values = []\n",
    "\n",
    "for column in columns:\n",
    "    Q1 = df[column].quantile(0.25)\n",
    "    Q3 = df[column].quantile(0.75)\n",
    "    \n",
    "    IQR = Q3 - Q1\n",
    "    \n",
    "    min_value = Q1 - 1.5 * IQR\n",
    "    max_value = Q3 + 1.5 * IQR\n",
    "    \n",
    "    min_values.append(min_value)\n",
    "    max_values.append(max_value)\n",
    "    \n",
    "    print(f\"column: {column}, min: {min_value}, max: {max_value}\")"
   ]
  },
  {
   "cell_type": "code",
   "execution_count": 29,
   "id": "01f364a4",
   "metadata": {},
   "outputs": [],
   "source": [
    "for i, column in enumerate(columns):\n",
    "    df = df[(df[column] >= min_values[i]) & (df[column] <= max_values[i])]"
   ]
  },
  {
   "cell_type": "code",
   "execution_count": 30,
   "id": "cc776de2",
   "metadata": {},
   "outputs": [
    {
     "name": "stdout",
     "output_type": "stream",
     "text": [
      "              room  living_room         area          age        floor  \\\n",
      "count  6212.000000       6212.0  6212.000000  6212.000000  6212.000000   \n",
      "mean      2.176272          1.0   104.669350    12.653896     2.199614   \n",
      "std       0.826815          0.0    39.442494    10.451565     1.589618   \n",
      "min       1.000000          1.0     5.000000     0.000000    -2.000000   \n",
      "25%       2.000000          1.0    75.000000     4.000000     1.000000   \n",
      "50%       2.000000          1.0   100.000000    10.000000     2.000000   \n",
      "75%       3.000000          1.0   130.000000    20.000000     3.000000   \n",
      "max       4.000000          1.0   240.000000    44.000000     6.000000   \n",
      "\n",
      "              price  \n",
      "count   6212.000000  \n",
      "mean   17900.975853  \n",
      "std    10467.582893  \n",
      "min        1.000000  \n",
      "25%    11000.000000  \n",
      "50%    15000.000000  \n",
      "75%    21000.000000  \n",
      "max    60000.000000  \n"
     ]
    }
   ],
   "source": [
    "print(df.describe())"
   ]
  },
  {
   "cell_type": "code",
   "execution_count": 31,
   "id": "f85fa565",
   "metadata": {},
   "outputs": [],
   "source": [
    "df = df[df['price'] >= 3000]"
   ]
  },
  {
   "cell_type": "code",
   "execution_count": null,
   "id": "d9b48ae7",
   "metadata": {},
   "outputs": [],
   "source": [
    "print(df.describe())"
   ]
  }
 ],
 "metadata": {
  "kernelspec": {
   "display_name": "Python 3 (ipykernel)",
   "language": "python",
   "name": "python3"
  },
  "language_info": {
   "codemirror_mode": {
    "name": "ipython",
    "version": 3
   },
   "file_extension": ".py",
   "mimetype": "text/x-python",
   "name": "python",
   "nbconvert_exporter": "python",
   "pygments_lexer": "ipython3",
   "version": "3.10.9"
  }
 },
 "nbformat": 4,
 "nbformat_minor": 5
}
